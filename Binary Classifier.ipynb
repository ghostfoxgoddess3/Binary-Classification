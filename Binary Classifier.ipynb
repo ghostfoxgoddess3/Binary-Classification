{
 "cells": [
  {
   "cell_type": "code",
   "execution_count": 48,
   "id": "31cc2247",
   "metadata": {},
   "outputs": [],
   "source": [
    "import numpy as np\n",
    "import pandas as pd\n",
    "%matplotlib inline\n",
    "import matplotlib as mpl\n",
    "import matplotlib.pyplot as plt\n",
    "import os\n",
    "import tensorflow as tf\n",
    "from tensorflow import keras"
   ]
  },
  {
   "cell_type": "code",
   "execution_count": 49,
   "id": "28541d4e",
   "metadata": {},
   "outputs": [],
   "source": [
    "train_dir = 'C:\\\\Users\\\\Jaanvi\\\\Downloads\\\\cats_and_dogs_small\\\\train'\n",
    "validation_dir = 'C:\\\\Users\\\\Jaanvi\\\\Downloads\\\\cats_and_dogs_small\\\\validation'\n",
    "test_dir = 'C:\\\\Users\\\\Jaanvi\\\\Downloads\\\\cats_and_dogs_small\\\\test'"
   ]
  },
  {
   "cell_type": "code",
   "execution_count": 50,
   "id": "849ca753",
   "metadata": {},
   "outputs": [],
   "source": [
    "from tensorflow.keras.preprocessing.image import ImageDataGenerator"
   ]
  },
  {
   "cell_type": "code",
   "execution_count": 51,
   "id": "b79592b7",
   "metadata": {},
   "outputs": [
    {
     "name": "stdout",
     "output_type": "stream",
     "text": [
      "Found 2000 images belonging to 2 classes.\n",
      "Found 1000 images belonging to 2 classes.\n"
     ]
    }
   ],
   "source": [
    "#Generating batches of tensor image data\n",
    "train_datagen = ImageDataGenerator(\n",
    "        rescale = 1./255)#target values between 0 and 1 \n",
    "\n",
    "test_datagen = ImageDataGenerator(rescale = 1./255)\n",
    "\n",
    "train_generator = train_datagen.flow_from_directory(\n",
    "        train_dir, \n",
    "        target_size = (150, 150), \n",
    "        #standardize image size\n",
    "        batch_size = 20, \n",
    "        #random seed for shuffling and transformations\n",
    "        class_mode = 'binary')\n",
    "        #binary classification\n",
    "\n",
    "validation_generator = test_datagen.flow_from_directory(\n",
    "        validation_dir,\n",
    "        target_size = (150, 150),\n",
    "        batch_size = 20,\n",
    "        class_mode = 'binary')"
   ]
  },
  {
   "cell_type": "code",
   "execution_count": 52,
   "id": "2ec09528",
   "metadata": {},
   "outputs": [],
   "source": [
    "from tensorflow.keras import layers\n",
    "from tensorflow.keras import models"
   ]
  },
  {
   "cell_type": "code",
   "execution_count": 53,
   "id": "6054663f",
   "metadata": {},
   "outputs": [],
   "source": [
    "model = models.Sequential()\n",
    "\n",
    "model.add(layers.Conv2D(32, (3,3), activation = 'relu', input_shape = (150, 150, 3)))\n",
    "#Cov_Layer with 32 filters,  Window = 3x3, Input = 150x150, 3RGB) \n",
    "model.add(layers.MaxPooling2D((2,2)))\n",
    "#Window = 2x2\n",
    "\n",
    "model.add(layers.Conv2D(64, (3,3), activation = 'relu')) #image = 75x75\n",
    "model.add(layers.MaxPooling2D((2,2)))\n",
    "\n",
    "model.add(layers.Conv2D(128, (3,3), activation = 'relu')) #image = 37x37\n",
    "model.add(layers.MaxPooling2D((2,2)))\n",
    "\n",
    "model.add(layers.Conv2D(128, (3,3), activation = 'relu')) #image = 18x18  \n",
    "model.add(layers.MaxPooling2D((2,2)))\n",
    "\n",
    "model.add(layers.Flatten())  #image = 9x9\n",
    "#Flatten layer is used to covert a multidimensional output to linear to pass it onto a Dense layer.\n",
    "\n",
    "model.add(layers.Dense(512, activation ='relu'))\n",
    "\n",
    "model.add(layers.Dense(1, activation ='sigmoid'))\n",
    "\n",
    "                        "
   ]
  },
  {
   "cell_type": "code",
   "execution_count": 54,
   "id": "5db24105",
   "metadata": {},
   "outputs": [
    {
     "name": "stdout",
     "output_type": "stream",
     "text": [
      "Model: \"sequential\"\n",
      "_________________________________________________________________\n",
      " Layer (type)                Output Shape              Param #   \n",
      "=================================================================\n",
      " conv2d (Conv2D)             (None, 148, 148, 32)      896       \n",
      "                                                                 \n",
      " max_pooling2d (MaxPooling2D  (None, 74, 74, 32)       0         \n",
      " )                                                               \n",
      "                                                                 \n",
      " conv2d_1 (Conv2D)           (None, 72, 72, 64)        18496     \n",
      "                                                                 \n",
      " max_pooling2d_1 (MaxPooling  (None, 36, 36, 64)       0         \n",
      " 2D)                                                             \n",
      "                                                                 \n",
      " conv2d_2 (Conv2D)           (None, 34, 34, 128)       73856     \n",
      "                                                                 \n",
      " max_pooling2d_2 (MaxPooling  (None, 17, 17, 128)      0         \n",
      " 2D)                                                             \n",
      "                                                                 \n",
      " conv2d_3 (Conv2D)           (None, 15, 15, 128)       147584    \n",
      "                                                                 \n",
      " max_pooling2d_3 (MaxPooling  (None, 7, 7, 128)        0         \n",
      " 2D)                                                             \n",
      "                                                                 \n",
      " flatten (Flatten)           (None, 6272)              0         \n",
      "                                                                 \n",
      " dense (Dense)               (None, 512)               3211776   \n",
      "                                                                 \n",
      " dense_1 (Dense)             (None, 1)                 513       \n",
      "                                                                 \n",
      "=================================================================\n",
      "Total params: 3,453,121\n",
      "Trainable params: 3,453,121\n",
      "Non-trainable params: 0\n",
      "_________________________________________________________________\n"
     ]
    }
   ],
   "source": [
    "model.summary()"
   ]
  },
  {
   "cell_type": "code",
   "execution_count": 55,
   "id": "23886e83",
   "metadata": {},
   "outputs": [],
   "source": [
    "from tensorflow.keras import optimizers\n",
    "\n",
    "model.compile(loss = 'binary_crossentropy', optimizer = optimizers.RMSprop(learning_rate = 1e-4), metrics = ['acc'])\n",
    "\n",
    "#binary_crossentropy calculates the score that penalizes the probabilities based on the distance from the expected value.\n",
    "#optimizer changes the attributes of the neural network such as weights and learning rate to reduce the losses\n",
    "#RMSProp, is an extension of gradient descent\n",
    "#measure the performance of a model by accuracy\n",
    "\n"
   ]
  },
  {
   "cell_type": "code",
   "execution_count": 56,
   "id": "9687e2b4",
   "metadata": {},
   "outputs": [
    {
     "name": "stderr",
     "output_type": "stream",
     "text": [
      "C:\\Users\\Jaanvi\\AppData\\Local\\Temp\\ipykernel_6528\\976694751.py:1: UserWarning: `Model.fit_generator` is deprecated and will be removed in a future version. Please use `Model.fit`, which supports generators.\n",
      "  history = model.fit_generator(\n"
     ]
    },
    {
     "name": "stdout",
     "output_type": "stream",
     "text": [
      "Epoch 1/20\n",
      "100/100 [==============================] - 62s 602ms/step - loss: 0.6937 - acc: 0.5245 - val_loss: 0.6775 - val_acc: 0.5990\n",
      "Epoch 2/20\n",
      "100/100 [==============================] - 56s 561ms/step - loss: 0.6600 - acc: 0.6020 - val_loss: 0.6429 - val_acc: 0.6280\n",
      "Epoch 3/20\n",
      "100/100 [==============================] - 56s 560ms/step - loss: 0.6063 - acc: 0.6590 - val_loss: 0.7846 - val_acc: 0.5570\n",
      "Epoch 4/20\n",
      "100/100 [==============================] - 56s 555ms/step - loss: 0.5681 - acc: 0.7025 - val_loss: 0.6174 - val_acc: 0.6490\n",
      "Epoch 5/20\n",
      "100/100 [==============================] - 58s 576ms/step - loss: 0.5293 - acc: 0.7300 - val_loss: 0.6569 - val_acc: 0.6390\n",
      "Epoch 6/20\n",
      "100/100 [==============================] - 89s 896ms/step - loss: 0.5097 - acc: 0.7385 - val_loss: 0.5700 - val_acc: 0.6960\n",
      "Epoch 7/20\n",
      "100/100 [==============================] - 86s 858ms/step - loss: 0.4865 - acc: 0.7610 - val_loss: 0.5632 - val_acc: 0.7000\n",
      "Epoch 8/20\n",
      "100/100 [==============================] - 85s 844ms/step - loss: 0.4620 - acc: 0.7875 - val_loss: 0.5699 - val_acc: 0.7060\n",
      "Epoch 9/20\n",
      "100/100 [==============================] - 90s 899ms/step - loss: 0.4371 - acc: 0.7870 - val_loss: 0.5619 - val_acc: 0.7180\n",
      "Epoch 10/20\n",
      "100/100 [==============================] - 94s 936ms/step - loss: 0.4142 - acc: 0.8070 - val_loss: 0.5515 - val_acc: 0.7210\n",
      "Epoch 11/20\n",
      "100/100 [==============================] - 86s 861ms/step - loss: 0.3915 - acc: 0.8280 - val_loss: 0.5522 - val_acc: 0.7210\n",
      "Epoch 12/20\n",
      "100/100 [==============================] - 85s 848ms/step - loss: 0.3672 - acc: 0.8390 - val_loss: 0.5525 - val_acc: 0.7310\n",
      "Epoch 13/20\n",
      "100/100 [==============================] - 3257s 33s/step - loss: 0.3456 - acc: 0.8530 - val_loss: 0.5520 - val_acc: 0.7250\n",
      "Epoch 14/20\n",
      "100/100 [==============================] - 60s 599ms/step - loss: 0.3214 - acc: 0.8570 - val_loss: 0.6490 - val_acc: 0.7160\n",
      "Epoch 15/20\n",
      "100/100 [==============================] - 57s 567ms/step - loss: 0.3003 - acc: 0.8740 - val_loss: 0.5485 - val_acc: 0.7330\n",
      "Epoch 16/20\n",
      "100/100 [==============================] - 66s 661ms/step - loss: 0.2690 - acc: 0.8990 - val_loss: 0.6515 - val_acc: 0.7020\n",
      "Epoch 17/20\n",
      "100/100 [==============================] - 67s 666ms/step - loss: 0.2501 - acc: 0.8990 - val_loss: 0.6559 - val_acc: 0.7260\n",
      "Epoch 18/20\n",
      "100/100 [==============================] - 78s 782ms/step - loss: 0.2302 - acc: 0.9155 - val_loss: 0.6451 - val_acc: 0.7300\n",
      "Epoch 19/20\n",
      "100/100 [==============================] - 79s 786ms/step - loss: 0.2105 - acc: 0.9245 - val_loss: 0.5776 - val_acc: 0.7550\n",
      "Epoch 20/20\n",
      "100/100 [==============================] - 98s 983ms/step - loss: 0.1852 - acc: 0.9345 - val_loss: 0.6319 - val_acc: 0.7670\n"
     ]
    }
   ],
   "source": [
    "history = model.fit_generator(\n",
    "        train_generator,\n",
    "        steps_per_epoch = 100,\n",
    "        epochs = 20,\n",
    "        validation_data = validation_generator,\n",
    "        validation_steps = 50)"
   ]
  },
  {
   "cell_type": "code",
   "execution_count": 57,
   "id": "615e6036",
   "metadata": {},
   "outputs": [
    {
     "data": {
      "image/png": "[encoded data removed]",
      "text/plain": [
       "<Figure size 576x360 with 1 Axes>"
      ]
     },
     "metadata": {
      "needs_background": "light"
     },
     "output_type": "display_data"
    }
   ],
   "source": [
    "pd.DataFrame(history.history).plot(figsize = (8, 5))\n",
    "plt.grid(True)\n",
    "plt.gca().set_ylim(0, 1)\n",
    "plt.show()"
   ]
  },
  {
   "cell_type": "code",
   "execution_count": 58,
   "id": "1e886b58",
   "metadata": {},
   "outputs": [],
   "source": [
    "from tensorflow.keras import backend as K\n",
    "\n",
    "K.clear_session() #avoids clutter from old models/layers\n",
    "del model"
   ]
  },
  {
   "cell_type": "code",
   "execution_count": 59,
   "id": "20992955",
   "metadata": {},
   "outputs": [
    {
     "name": "stdout",
     "output_type": "stream",
     "text": [
      "Found 2000 images belonging to 2 classes.\n",
      "Found 1000 images belonging to 2 classes.\n"
     ]
    }
   ],
   "source": [
    "train_datagen = ImageDataGenerator(\n",
    "        rescale = 1./255,#target values between 0 and 1\n",
    "        rotation_range = 40,\n",
    "        width_shift_range = 0.2,\n",
    "        height_shift_range = 0.2,\n",
    "        shear_range = 0.2,\n",
    "        zoom_range = 0.2,\n",
    "        horizontal_flip = True,) \n",
    "\n",
    "test_datagen = ImageDataGenerator(rescale = 1./255)\n",
    "\n",
    "train_generator = train_datagen.flow_from_directory(\n",
    "        train_dir, \n",
    "        target_size = (150, 150), \n",
    "        #standardize image size\n",
    "        batch_size = 32, \n",
    "        #random seed for shuffling and transformations\n",
    "        class_mode = 'binary')\n",
    "        #binary classification\n",
    "\n",
    "validation_generator = test_datagen.flow_from_directory(\n",
    "        validation_dir,\n",
    "        target_size = (150, 150),\n",
    "        batch_size = 32,\n",
    "        class_mode = 'binary')"
   ]
  },
  {
   "cell_type": "code",
   "execution_count": 60,
   "id": "d910ad68",
   "metadata": {},
   "outputs": [],
   "source": [
    "model = models.Sequential()\n",
    "\n",
    "model.add(layers.Conv2D(32, (3,3), activation = 'relu', input_shape = (150, 150, 3)))\n",
    "#Cov_Layer with 32 filters,  Window = 3x3, Input = 150x150, 3RGB) \n",
    "model.add(layers.MaxPooling2D((2,2)))\n",
    "#Window = 2x2\n",
    "\n",
    "model.add(layers.Conv2D(64, (3,3), activation = 'relu')) #image = 75x75\n",
    "model.add(layers.MaxPooling2D((2,2)))\n",
    "\n",
    "model.add(layers.Conv2D(128, (3,3), activation = 'relu')) #image = 37x37\n",
    "model.add(layers.MaxPooling2D((2,2)))\n",
    "\n",
    "model.add(layers.Conv2D(128, (3,3), activation = 'relu')) #image = 18x18  \n",
    "model.add(layers.MaxPooling2D((2,2)))\n",
    "\n",
    "model.add(layers.Flatten())  #image = 9x9\n",
    "#Flatten layer is used to covert a multidimensional output to linear to pass it onto a Dense layer.\n",
    "\n",
    "model.add(layers.Dropout(0.5))\n",
    "#Deactivates 50% of neurons during each epoch.\n",
    "#avoids overfitting\n",
    "\n",
    "model.add(layers.Dense(512, activation ='relu'))\n",
    "\n",
    "model.add(layers.Dense(1, activation ='sigmoid'))"
   ]
  },
  {
   "cell_type": "code",
   "execution_count": 61,
   "id": "f368adbe",
   "metadata": {},
   "outputs": [],
   "source": [
    "model.compile(loss = 'binary_crossentropy', optimizer = optimizers.RMSprop(learning_rate = 1e-4), metrics = ['acc'])"
   ]
  },
  {
   "cell_type": "code",
   "execution_count": 62,
   "id": "9fb6d67b",
   "metadata": {
    "scrolled": false
   },
   "outputs": [
    {
     "name": "stderr",
     "output_type": "stream",
     "text": [
      "C:\\Users\\Jaanvi\\AppData\\Local\\Temp\\ipykernel_6528\\917567305.py:1: UserWarning: `Model.fit_generator` is deprecated and will be removed in a future version. Please use `Model.fit`, which supports generators.\n",
      "  history = model.fit_generator(\n"
     ]
    },
    {
     "name": "stdout",
     "output_type": "stream",
     "text": [
      "Epoch 1/20\n",
      "62/62 [==============================] - 113s 2s/step - loss: 0.6941 - acc: 0.5137 - val_loss: 0.6891 - val_acc: 0.5010\n",
      "Epoch 2/20\n",
      "62/62 [==============================] - 109s 2s/step - loss: 0.6858 - acc: 0.5483 - val_loss: 0.6925 - val_acc: 0.5302\n",
      "Epoch 3/20\n",
      "62/62 [==============================] - 107s 2s/step - loss: 0.6785 - acc: 0.5701 - val_loss: 0.6568 - val_acc: 0.6099\n",
      "Epoch 4/20\n",
      "62/62 [==============================] - 114s 2s/step - loss: 0.6609 - acc: 0.5884 - val_loss: 0.6435 - val_acc: 0.6260\n",
      "Epoch 5/20\n",
      "62/62 [==============================] - 116s 2s/step - loss: 0.6521 - acc: 0.6148 - val_loss: 0.6677 - val_acc: 0.6018\n",
      "Epoch 6/20\n",
      "62/62 [==============================] - 107s 2s/step - loss: 0.6361 - acc: 0.6225 - val_loss: 0.6269 - val_acc: 0.6270\n",
      "Epoch 7/20\n",
      "62/62 [==============================] - 109s 2s/step - loss: 0.6338 - acc: 0.6336 - val_loss: 0.6309 - val_acc: 0.6401\n",
      "Epoch 8/20\n",
      "62/62 [==============================] - 120s 2s/step - loss: 0.6193 - acc: 0.6560 - val_loss: 0.6046 - val_acc: 0.6704\n",
      "Epoch 9/20\n",
      "62/62 [==============================] - 120s 2s/step - loss: 0.6148 - acc: 0.6657 - val_loss: 0.6024 - val_acc: 0.6603\n",
      "Epoch 10/20\n",
      "62/62 [==============================] - 128s 2s/step - loss: 0.6160 - acc: 0.6621 - val_loss: 0.5723 - val_acc: 0.6986\n",
      "Epoch 11/20\n",
      "62/62 [==============================] - 118s 2s/step - loss: 0.6008 - acc: 0.6707 - val_loss: 0.6045 - val_acc: 0.6825\n",
      "Epoch 12/20\n",
      "62/62 [==============================] - 125s 2s/step - loss: 0.5934 - acc: 0.6839 - val_loss: 0.5619 - val_acc: 0.7107\n",
      "Epoch 13/20\n",
      "62/62 [==============================] - 136s 2s/step - loss: 0.5782 - acc: 0.6961 - val_loss: 0.5737 - val_acc: 0.6915\n",
      "Epoch 14/20\n",
      "62/62 [==============================] - 115s 2s/step - loss: 0.5813 - acc: 0.6870 - val_loss: 0.5445 - val_acc: 0.7097\n",
      "Epoch 15/20\n",
      "62/62 [==============================] - 109s 2s/step - loss: 0.5796 - acc: 0.6900 - val_loss: 0.5580 - val_acc: 0.7077\n",
      "Epoch 16/20\n",
      "62/62 [==============================] - 109s 2s/step - loss: 0.5690 - acc: 0.7002 - val_loss: 0.5417 - val_acc: 0.7218\n",
      "Epoch 17/20\n",
      "62/62 [==============================] - 111s 2s/step - loss: 0.5618 - acc: 0.7144 - val_loss: 0.5536 - val_acc: 0.7056\n",
      "Epoch 18/20\n",
      "62/62 [==============================] - 118s 2s/step - loss: 0.5624 - acc: 0.7022 - val_loss: 0.5290 - val_acc: 0.7298\n",
      "Epoch 19/20\n",
      "62/62 [==============================] - 124s 2s/step - loss: 0.5653 - acc: 0.7058 - val_loss: 0.6297 - val_acc: 0.6643\n",
      "Epoch 20/20\n",
      "62/62 [==============================] - 111s 2s/step - loss: 0.5565 - acc: 0.7200 - val_loss: 0.5758 - val_acc: 0.7056\n"
     ]
    }
   ],
   "source": [
    "history = model.fit_generator(\n",
    "        train_generator,\n",
    "        steps_per_epoch = 2000 // 32,\n",
    "        epochs = 20,\n",
    "        validation_data = validation_generator,\n",
    "        validation_steps = 1000 // 32)"
   ]
  },
  {
   "cell_type": "code",
   "execution_count": 63,
   "id": "17621709",
   "metadata": {
    "scrolled": true
   },
   "outputs": [
    {
     "data": {
      "image/png": "[encoded data removed]",
      "text/plain": [
       "<Figure size 576x360 with 1 Axes>"
      ]
     },
     "metadata": {
      "needs_background": "light"
     },
     "output_type": "display_data"
    }
   ],
   "source": [
    "pd.DataFrame(history.history).plot(figsize = (8, 5))\n",
    "plt.grid(True)\n",
    "plt.gca().set_ylim(0, 1)\n",
    "plt.show()"
   ]
  },
  {
   "cell_type": "code",
   "execution_count": 64,
   "id": "fbda62be",
   "metadata": {},
   "outputs": [],
   "source": [
    "from tensorflow.keras import backend as K\n",
    "\n",
    "K.clear_session()\n",
    "del model"
   ]
  },
  {
   "cell_type": "code",
   "execution_count": null,
   "id": "613a020c",
   "metadata": {},
   "outputs": [],
   "source": []
  }
 ],
 "metadata": {
  "kernelspec": {
   "display_name": "Python 3 (ipykernel)",
   "language": "python",
   "name": "python3"
  },
  "language_info": {
   "codemirror_mode": {
    "name": "ipython",
    "version": 3
   },
   "file_extension": ".py",
   "mimetype": "text/x-python",
   "name": "python",
   "nbconvert_exporter": "python",
   "pygments_lexer": "ipython3",
   "version": "3.8.8"
  }
 },
 "nbformat": 4,
 "nbformat_minor": 5
}
